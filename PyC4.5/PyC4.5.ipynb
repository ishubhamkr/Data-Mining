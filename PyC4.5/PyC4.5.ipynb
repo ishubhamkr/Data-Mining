{
 "cells": [
  {
   "cell_type": "code",
   "execution_count": 1,
   "metadata": {},
   "outputs": [],
   "source": [
    "import numpy  as np\n",
    "import pandas as pd\n",
    "from copy import deepcopy\n",
    "from random import randint\n",
    "from sklearn.metrics import classification_report, confusion_matrix,precision_recall_fscore_support\n",
    "from sklearn.model_selection import train_test_split\n",
    "from scipy import stats\n",
    "from sklearn import metrics\n",
    "import random as rnd"
   ]
  },
  {
   "cell_type": "code",
   "execution_count": 2,
   "metadata": {},
   "outputs": [
    {
     "data": {
      "text/html": [
       "<div>\n",
       "<style scoped>\n",
       "    .dataframe tbody tr th:only-of-type {\n",
       "        vertical-align: middle;\n",
       "    }\n",
       "\n",
       "    .dataframe tbody tr th {\n",
       "        vertical-align: top;\n",
       "    }\n",
       "\n",
       "    .dataframe thead th {\n",
       "        text-align: right;\n",
       "    }\n",
       "</style>\n",
       "<table border=\"1\" class=\"dataframe\">\n",
       "  <thead>\n",
       "    <tr style=\"text-align: right;\">\n",
       "      <th></th>\n",
       "      <th>Unnamed: 0</th>\n",
       "      <th>Category</th>\n",
       "      <th>Age</th>\n",
       "      <th>Sex</th>\n",
       "      <th>ALB</th>\n",
       "      <th>ALP</th>\n",
       "      <th>ALT</th>\n",
       "      <th>AST</th>\n",
       "      <th>BIL</th>\n",
       "      <th>CHE</th>\n",
       "      <th>CHOL</th>\n",
       "      <th>CREA</th>\n",
       "      <th>GGT</th>\n",
       "      <th>PROT</th>\n",
       "    </tr>\n",
       "  </thead>\n",
       "  <tbody>\n",
       "    <tr>\n",
       "      <th>0</th>\n",
       "      <td>1</td>\n",
       "      <td>0=Blood Donor</td>\n",
       "      <td>32</td>\n",
       "      <td>m</td>\n",
       "      <td>38.5</td>\n",
       "      <td>52.5</td>\n",
       "      <td>7.7</td>\n",
       "      <td>22.1</td>\n",
       "      <td>7.5</td>\n",
       "      <td>6.93</td>\n",
       "      <td>3.23</td>\n",
       "      <td>106.0</td>\n",
       "      <td>12.1</td>\n",
       "      <td>69.0</td>\n",
       "    </tr>\n",
       "    <tr>\n",
       "      <th>1</th>\n",
       "      <td>2</td>\n",
       "      <td>0=Blood Donor</td>\n",
       "      <td>32</td>\n",
       "      <td>m</td>\n",
       "      <td>38.5</td>\n",
       "      <td>70.3</td>\n",
       "      <td>18.0</td>\n",
       "      <td>24.7</td>\n",
       "      <td>3.9</td>\n",
       "      <td>11.17</td>\n",
       "      <td>4.80</td>\n",
       "      <td>74.0</td>\n",
       "      <td>15.6</td>\n",
       "      <td>76.5</td>\n",
       "    </tr>\n",
       "    <tr>\n",
       "      <th>2</th>\n",
       "      <td>3</td>\n",
       "      <td>0=Blood Donor</td>\n",
       "      <td>32</td>\n",
       "      <td>m</td>\n",
       "      <td>46.9</td>\n",
       "      <td>74.7</td>\n",
       "      <td>36.2</td>\n",
       "      <td>52.6</td>\n",
       "      <td>6.1</td>\n",
       "      <td>8.84</td>\n",
       "      <td>5.20</td>\n",
       "      <td>86.0</td>\n",
       "      <td>33.2</td>\n",
       "      <td>79.3</td>\n",
       "    </tr>\n",
       "    <tr>\n",
       "      <th>3</th>\n",
       "      <td>4</td>\n",
       "      <td>0=Blood Donor</td>\n",
       "      <td>32</td>\n",
       "      <td>m</td>\n",
       "      <td>43.2</td>\n",
       "      <td>52.0</td>\n",
       "      <td>30.6</td>\n",
       "      <td>22.6</td>\n",
       "      <td>18.9</td>\n",
       "      <td>7.33</td>\n",
       "      <td>4.74</td>\n",
       "      <td>80.0</td>\n",
       "      <td>33.8</td>\n",
       "      <td>75.7</td>\n",
       "    </tr>\n",
       "    <tr>\n",
       "      <th>4</th>\n",
       "      <td>5</td>\n",
       "      <td>0=Blood Donor</td>\n",
       "      <td>32</td>\n",
       "      <td>m</td>\n",
       "      <td>39.2</td>\n",
       "      <td>74.1</td>\n",
       "      <td>32.6</td>\n",
       "      <td>24.8</td>\n",
       "      <td>9.6</td>\n",
       "      <td>9.15</td>\n",
       "      <td>4.32</td>\n",
       "      <td>76.0</td>\n",
       "      <td>29.9</td>\n",
       "      <td>68.7</td>\n",
       "    </tr>\n",
       "  </tbody>\n",
       "</table>\n",
       "</div>"
      ],
      "text/plain": [
       "   Unnamed: 0       Category  Age Sex   ALB   ALP   ALT   AST   BIL    CHE  \\\n",
       "0           1  0=Blood Donor   32   m  38.5  52.5   7.7  22.1   7.5   6.93   \n",
       "1           2  0=Blood Donor   32   m  38.5  70.3  18.0  24.7   3.9  11.17   \n",
       "2           3  0=Blood Donor   32   m  46.9  74.7  36.2  52.6   6.1   8.84   \n",
       "3           4  0=Blood Donor   32   m  43.2  52.0  30.6  22.6  18.9   7.33   \n",
       "4           5  0=Blood Donor   32   m  39.2  74.1  32.6  24.8   9.6   9.15   \n",
       "\n",
       "   CHOL   CREA   GGT  PROT  \n",
       "0  3.23  106.0  12.1  69.0  \n",
       "1  4.80   74.0  15.6  76.5  \n",
       "2  5.20   86.0  33.2  79.3  \n",
       "3  4.74   80.0  33.8  75.7  \n",
       "4  4.32   76.0  29.9  68.7  "
      ]
     },
     "execution_count": 2,
     "metadata": {},
     "output_type": "execute_result"
    }
   ],
   "source": [
    "data = pd.read_csv(\"hcvdat0.csv\")\n",
    "data.head()"
   ]
  },
  {
   "cell_type": "code",
   "execution_count": 3,
   "metadata": {},
   "outputs": [
    {
     "data": {
      "text/plain": [
       "array(['m', 'f'], dtype=object)"
      ]
     },
     "execution_count": 3,
     "metadata": {},
     "output_type": "execute_result"
    }
   ],
   "source": [
    "data['Category'].unique()\n",
    "data['Sex'].unique()"
   ]
  },
  {
   "cell_type": "code",
   "execution_count": 4,
   "metadata": {},
   "outputs": [],
   "source": [
    "df = data.drop(['Unnamed: 0'],axis =1)"
   ]
  },
  {
   "cell_type": "code",
   "execution_count": 5,
   "metadata": {},
   "outputs": [
    {
     "name": "stdout",
     "output_type": "stream",
     "text": [
      "<class 'pandas.core.frame.DataFrame'>\n",
      "RangeIndex: 615 entries, 0 to 614\n",
      "Data columns (total 13 columns):\n",
      " #   Column    Non-Null Count  Dtype  \n",
      "---  ------    --------------  -----  \n",
      " 0   Category  615 non-null    object \n",
      " 1   Age       615 non-null    int64  \n",
      " 2   Sex       615 non-null    object \n",
      " 3   ALB       614 non-null    float64\n",
      " 4   ALP       597 non-null    float64\n",
      " 5   ALT       614 non-null    float64\n",
      " 6   AST       615 non-null    float64\n",
      " 7   BIL       615 non-null    float64\n",
      " 8   CHE       615 non-null    float64\n",
      " 9   CHOL      605 non-null    float64\n",
      " 10  CREA      615 non-null    float64\n",
      " 11  GGT       615 non-null    float64\n",
      " 12  PROT      614 non-null    float64\n",
      "dtypes: float64(10), int64(1), object(2)\n",
      "memory usage: 62.6+ KB\n"
     ]
    }
   ],
   "source": [
    "df.info()"
   ]
  },
  {
   "cell_type": "code",
   "execution_count": 6,
   "metadata": {},
   "outputs": [
    {
     "data": {
      "text/plain": [
       "Category     0\n",
       "Age          0\n",
       "Sex          0\n",
       "ALB          1\n",
       "ALP         18\n",
       "ALT          1\n",
       "AST          0\n",
       "BIL          0\n",
       "CHE          0\n",
       "CHOL        10\n",
       "CREA         0\n",
       "GGT          0\n",
       "PROT         1\n",
       "dtype: int64"
      ]
     },
     "execution_count": 6,
     "metadata": {},
     "output_type": "execute_result"
    }
   ],
   "source": [
    "df.isnull().sum()"
   ]
  },
  {
   "cell_type": "code",
   "execution_count": 7,
   "metadata": {},
   "outputs": [],
   "source": [
    "def impute_nan(df,variable,median):\n",
    "    df[variable+\"_median\"]=df[variable].fillna(median)\n",
    "    df[variable+\"_random\"]=df[variable]\n",
    "    ##It will have the random sample to fill the na\n",
    "    random_sample=df[variable].dropna().sample(df[variable].isnull().sum(),random_state=0)\n",
    "    ##pandas need to have same index in order to merge the dataset\n",
    "    random_sample.index=df[df[variable].isnull()].index\n",
    "    df.loc[df[variable].isnull(),variable+'_random']=random_sample"
   ]
  },
  {
   "cell_type": "code",
   "execution_count": 8,
   "metadata": {},
   "outputs": [],
   "source": [
    "median=df.ALP.median()\n",
    "median=df.ALB.median()\n",
    "median=df.ALT.median()\n",
    "median=df.CHOL.median()\n",
    "median=df.PROT.median()"
   ]
  },
  {
   "cell_type": "code",
   "execution_count": 9,
   "metadata": {},
   "outputs": [],
   "source": [
    "impute_nan(df,'ALP',median)\n",
    "impute_nan(df,'ALB',median)\n",
    "impute_nan(df,'ALT',median)\n",
    "impute_nan(df,'CHOL',median)\n",
    "impute_nan(df,'PROT',median)"
   ]
  },
  {
   "cell_type": "code",
   "execution_count": 10,
   "metadata": {},
   "outputs": [
    {
     "name": "stdout",
     "output_type": "stream",
     "text": [
      "------------ALP--------\n",
      "26.028315300123676\n",
      "25.652462679110126\n",
      "25.891276597748643\n",
      "------------ALB--------\n",
      "5.7806294041030775\n",
      "5.9060799975961045\n",
      "5.77747160043219\n",
      "------------ALT--------\n",
      "25.46968881387094\n",
      "25.510011883263825\n",
      "25.45716861228685\n",
      "------------CHOL--------\n",
      "1.132728431159735\n",
      "8.533679735037218\n",
      "1.1307378041704204\n",
      "------------PROT--------\n",
      "5.402635737104956\n",
      "5.398238062526439\n",
      "5.3987465675293995\n"
     ]
    }
   ],
   "source": [
    "print('------------ALP--------')\n",
    "print(df['ALP'].std())\n",
    "print(df['ALP_median'].std())\n",
    "print(df['ALP_random'].std())\n",
    "print('------------ALB--------')\n",
    "print(df['ALB'].std())\n",
    "print(df['ALB_median'].std())\n",
    "print(df['ALB_random'].std())\n",
    "print('------------ALT--------')\n",
    "print(df['ALT'].std())\n",
    "print(df['ALT_median'].std())\n",
    "print(df['ALT_random'].std())\n",
    "print('------------CHOL--------')\n",
    "print(df['CHOL'].std())\n",
    "print(df['CHOL_median'].std())\n",
    "print(df['CHOL_random'].std())\n",
    "print('------------PROT--------')\n",
    "print(df['PROT'].std())\n",
    "print(df['PROT_median'].std())\n",
    "print(df['PROT_random'].std())"
   ]
  },
  {
   "cell_type": "code",
   "execution_count": 11,
   "metadata": {},
   "outputs": [
    {
     "data": {
      "text/plain": [
       "Index(['Category', 'Age', 'Sex', 'ALB', 'ALP', 'ALT', 'AST', 'BIL', 'CHE',\n",
       "       'CHOL', 'CREA', 'GGT', 'PROT', 'ALP_median', 'ALP_random', 'ALB_median',\n",
       "       'ALB_random', 'ALT_median', 'ALT_random', 'CHOL_median', 'CHOL_random',\n",
       "       'PROT_median', 'PROT_random'],\n",
       "      dtype='object')"
      ]
     },
     "execution_count": 11,
     "metadata": {},
     "output_type": "execute_result"
    }
   ],
   "source": [
    "df.columns"
   ]
  },
  {
   "cell_type": "code",
   "execution_count": 12,
   "metadata": {},
   "outputs": [],
   "source": [
    "df=df.drop(['ALB','ALP','ALT','CHOL','PROT','ALP_median','ALB_random','ALT_random','CHOL_median','PROT_median'],axis=1)"
   ]
  },
  {
   "cell_type": "code",
   "execution_count": 13,
   "metadata": {},
   "outputs": [],
   "source": [
    "df['Category'] = df['Category'].map({\"0=Blood Donor\":0,\"0s=suspect Blood Donor\":4,\"1=Hepatitis\":1,\"2=Fibrosis\":2,'3=Cirrhosis':3})"
   ]
  },
  {
   "cell_type": "code",
   "execution_count": 14,
   "metadata": {},
   "outputs": [],
   "source": [
    "X_sex = pd.get_dummies(df['Sex'],drop_first=True)"
   ]
  },
  {
   "cell_type": "code",
   "execution_count": 15,
   "metadata": {},
   "outputs": [],
   "source": [
    "df = pd.concat([df,X_sex], axis=1)"
   ]
  },
  {
   "cell_type": "code",
   "execution_count": 16,
   "metadata": {},
   "outputs": [],
   "source": [
    "df = df.drop('Sex', 1)"
   ]
  },
  {
   "cell_type": "code",
   "execution_count": 17,
   "metadata": {},
   "outputs": [],
   "source": [
    "df.rename(columns={'m': 'Sex'}, inplace=True)"
   ]
  },
  {
   "cell_type": "code",
   "execution_count": 18,
   "metadata": {},
   "outputs": [],
   "source": [
    "df = df[['Age', 'AST', 'BIL', 'CHE', 'CREA', 'GGT', 'ALP_random','ALB_median', 'ALT_median', 'CHOL_random', 'PROT_random', 'Sex','Category']]"
   ]
  },
  {
   "cell_type": "code",
   "execution_count": 19,
   "metadata": {},
   "outputs": [],
   "source": [
    " X_train, X_test = train_test_split(df, test_size=0.3, random_state=42)"
   ]
  },
  {
   "cell_type": "code",
   "execution_count": 20,
   "metadata": {},
   "outputs": [],
   "source": [
    "types = X_test['Category']\n",
    "X_test = X_test.iloc[:,:-1]"
   ]
  },
  {
   "cell_type": "code",
   "execution_count": 21,
   "metadata": {},
   "outputs": [],
   "source": [
    "test = types.tolist()"
   ]
  },
  {
   "cell_type": "code",
   "execution_count": 22,
   "metadata": {},
   "outputs": [
    {
     "name": "stdout",
     "output_type": "stream",
     "text": [
      "Test 1\n",
      "------------\n",
      "Tree Generated:\n",
      "\n",
      "AST : 52.6\n",
      "L ALT_median : 9.5\n",
      " L ALP_random : 42.2\n",
      "  L CREA : 60.8\n",
      "   L 1\n",
      "   R Age : 49\n",
      "    L 4\n",
      "    R 2\n",
      "  R CREA : 82.0\n",
      "   L 0\n",
      "   R 3\n",
      " R AST : 31.0\n",
      "  L CHE : 3.44\n",
      "   L 4\n",
      "   R 0\n",
      "  R Age : 30\n",
      "   L 1\n",
      "   R ALP_random : 41.6\n",
      "    L 1\n",
      "    R CHOL_random : 3.1\n",
      "     L 2\n",
      "     R PROT_random : 63.0\n",
      "      L CHE : 6.06\n",
      "       L 0\n",
      "       R 1\n",
      "      R 0\n",
      "R ALB_median : 36.0\n",
      " L BIL : 9.8\n",
      "  L 4\n",
      "  R Age : 64\n",
      "   L 3\n",
      "   R 2\n",
      " R ALP_random : 47.5\n",
      "  L ALP_random : 39.6\n",
      "   L Age : 32\n",
      "    L 1\n",
      "    R CHE : 9.24\n",
      "     L 2\n",
      "     R 1\n",
      "   R AST : 187.9\n",
      "    L 2\n",
      "    R 0\n",
      "  R AST : 70.0\n",
      "   L AST : 69.2\n",
      "    L 0\n",
      "    R 2\n",
      "   R AST : 285.8\n",
      "    L 3\n",
      "    R 1\n",
      "\n",
      "Correctly Classified: 162 / 185\n",
      "Accuracy: 88.0\n",
      "\n",
      "[[150   0   0   2   1]\n",
      " [  3   5   0   0   2]\n",
      " [  3   1   2   2   0]\n",
      " [  2   0   3   5   1]\n",
      " [  1   1   0   1   0]]\n",
      "              precision    recall  f1-score   support\n",
      "\n",
      "           0      0.943     0.980     0.962       153\n",
      "           1      0.714     0.500     0.588        10\n",
      "           2      0.400     0.250     0.308         8\n",
      "           3      0.500     0.455     0.476        11\n",
      "           4      0.000     0.000     0.000         3\n",
      "\n",
      "    accuracy                          0.876       185\n",
      "   macro avg      0.512     0.437     0.467       185\n",
      "weighted avg      0.866     0.876     0.869       185\n",
      "\n"
     ]
    }
   ],
   "source": [
    "#C 4.5 Rule Based Classifier\n",
    "targetEntropy = 0\n",
    "def getUniqueClasses(dataFrameColumn):\n",
    "    results = {}\n",
    "    for row in dataFrameColumn:\n",
    "        if row not in results: results[row] = 0 \n",
    "        results[row] += 1 \n",
    "    return results\n",
    "def getEntropy(data, column):\n",
    "    entropy = 0.0\n",
    "    results = getUniqueClasses(data[column]) \n",
    "    for row in results.values():\n",
    "        p = float(row) / len(data[column]) \n",
    "        entropy -= p * np.log2(p) \n",
    "    return entropy\n",
    "def findSplitPoints(data, column):\n",
    "    sorted = data.sort_values([column], ascending=True)\n",
    "    sorted_matrix = sorted[[column, 'Category']].to_numpy()\n",
    "    splitPoints = []\n",
    "    previous = sorted_matrix[0][1] \n",
    "    index = sorted.index.values; \n",
    "    counter = 0\n",
    "    for row in sorted_matrix:\n",
    "        if row[1] != previous: \n",
    "            splitPoints.append([index[counter - 1], sorted_matrix[counter - 1][0]])\n",
    "        counter += 1\n",
    "        previous = row[1]\n",
    "    return splitPoints\n",
    "def splitSets(data, column, splitPoints):\n",
    "    sets_below = []\n",
    "    sets_above = []\n",
    "    for i in range(len(splitPoints)):\n",
    "        df1 = data[data[column] <= data[column][splitPoints[i][0]]]  \n",
    "        df2 = data[data[column] > data[column][splitPoints[i][0]]]  \n",
    "        # add to the lists\n",
    "        sets_below.append(df1)\n",
    "        sets_above.append(df2)\n",
    "    return sets_below, sets_above\n",
    "def getInformationGain(data, column):\n",
    "    splitpoints = findSplitPoints(data, column)  \n",
    "    sets_below, sets_above = splitSets(data, column, splitpoints) \n",
    "    instances_above = []\n",
    "    instances_below = []\n",
    "    entropy_above = []\n",
    "    entropy_below = []\n",
    "    target_entropy = getEntropy(data, 'Category') \n",
    "    for set in sets_below:\n",
    "        entropy_below.append(getEntropy(set, 'Category'))\n",
    "        instances_below.append(len(set))\n",
    "    for set in sets_above:\n",
    "        entropy_above.append(getEntropy(set, 'Category'))\n",
    "        instances_above.append(len(set))\n",
    "    totalInstances = []\n",
    "    infoGains = []\n",
    "    for i in range(len(instances_below)):\n",
    "        totalInstances.append(instances_below[i] + instances_above[i])\n",
    "        probA = (instances_above[i] / float(totalInstances[i]))\n",
    "        probB = (instances_below[i] / float(totalInstances[i]))\n",
    "        infoGains.append(target_entropy - ((entropy_below[i] * probB) + (entropy_above[i] * probA)))\n",
    "    best_gain = i = counter = 0\n",
    "    for gain in infoGains:\n",
    "        if best_gain < gain:\n",
    "            best_gain = gain\n",
    "            counter = i \n",
    "        i += 1\n",
    "    return best_gain, sets_below[counter], sets_above[counter], splitpoints[counter]\n",
    "def train(data):\n",
    "    optimal_gain = -1\n",
    "    best = {}\n",
    "    columns = []\n",
    "    i = 0\n",
    "    for column in data:  # loop over each attribute\n",
    "        if column != 'Category':\n",
    "            try:\n",
    "                ig, set1, set2, split = getInformationGain(data, column)  \n",
    "                columns.append({\"ig\": ig, \"left\": set1, \"right\": set2, 'col': i, 'split': split,'colName': column})\n",
    "            except IndexError:\n",
    "                columns.append({\"ig\": 0, \"left\": [], \"right\": [], 'col': column, })\n",
    "        i += 1\n",
    "    for val in range(len(columns)):\n",
    "        if columns[val]['ig'] > optimal_gain:\n",
    "            best = columns[val]\n",
    "            optimal_gain = columns[val]['ig']\n",
    "    left = best['left']\n",
    "    right = best['right']\n",
    "    if len(best['left']) != 0 and len(best['right']) != 0:\n",
    "        return (treeNode(col=best['col'], colName=best['colName'], value=best['split'][1], results=None,\n",
    "                              rb=train(right), lb=train(left)))\n",
    "    else:\n",
    "        label = list(getUniqueClasses(data['Category']).keys()); \n",
    "        return (treeNode(results=label[0]))\n",
    "def classify(target_row, tree):\n",
    "    if tree.results != None:\n",
    "        return tree.results\n",
    "    else:\n",
    "        val = target_row[tree.col]\n",
    "        branch = None\n",
    "        if isinstance(val, int) or isinstance(val, float):\n",
    "            if val >= tree.value:\n",
    "                branch = tree.rb\n",
    "            else:\n",
    "                branch = tree.lb\n",
    "        return classify(target_row, branch)\n",
    "def printTree(tree, space=''):\n",
    "    if tree.results != None:\n",
    "        print(str(tree.results))\n",
    "    else:\n",
    "        print(str(tree.colName) + ' : ' + str(tree.value)) \n",
    "        print(space + 'L ', end=\"\") \n",
    "        printTree(tree.lb, space + ' ') \n",
    "        print(space + 'R ', end=\"\") \n",
    "        printTree(tree.rb, space + ' ')\n",
    "def test_tree(data, labels, tree):\n",
    "    values = []\n",
    "    pred = []\n",
    "    for index, row in data.iterrows():\n",
    "        values.append([index, classify(row, tree)])\n",
    "        pred.append(classify(row, tree))\n",
    "    indexes = labels.index.values\n",
    "    correct = incorrect = 0\n",
    "    for l in range(len(values)):\n",
    "        if values[l][0] == indexes[l] and values[l][1] == labels[indexes[l]]:\n",
    "            correct += 1 \n",
    "        else:\n",
    "            incorrect += 1 \n",
    "    return incorrect, correct, np.round(100 - (incorrect / (incorrect + correct)) * 100),pred\n",
    "def main():\n",
    "    results = [];\n",
    "    tests = 1\n",
    "    for i in range(tests):\n",
    "        tree = train(X_train)\n",
    "        incorrect, correct, accuracy,pred = test_tree(X_test, types, tree)\n",
    "        results.append(accuracy)\n",
    "        print(\"Test \" + str(i + 1) + \"\\n------------\")\n",
    "        print(\"Tree Generated:\" + \"\\n\")\n",
    "        printTree(tree)\n",
    "        print()\n",
    "        print(\"Correctly Classified: \" + str(correct) + \" / \" + str(correct+incorrect))\n",
    "        print(\"Accuracy: \" + str(accuracy))\n",
    "        print()\n",
    "    sum = 0\n",
    "    for r in range(len(results)):\n",
    "        sum += results[r]\n",
    "    average = sum/tests\n",
    "    print(metrics.confusion_matrix(types,pred))\n",
    "    print(metrics.classification_report(types,pred, digits=3))\n",
    "class treeNode():\n",
    "    def __init__(self, col=-1, colName='', value=None, results=None, rb=None, lb=None):\n",
    "        self.col = col \n",
    "        self.colName = colName; \n",
    "        self.value = value \n",
    "        self.results = results \n",
    "        self.rb = rb \n",
    "        self.lb= lb \n",
    "if __name__ == '__main__':\n",
    "    main()"
   ]
  }
 ],
 "metadata": {
  "kernelspec": {
   "display_name": "Python 3",
   "language": "python",
   "name": "python3"
  },
  "language_info": {
   "codemirror_mode": {
    "name": "ipython",
    "version": 3
   },
   "file_extension": ".py",
   "mimetype": "text/x-python",
   "name": "python",
   "nbconvert_exporter": "python",
   "pygments_lexer": "ipython3",
   "version": "3.8.3"
  }
 },
 "nbformat": 4,
 "nbformat_minor": 4
}
